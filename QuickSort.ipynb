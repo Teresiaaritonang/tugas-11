{
  "nbformat": 4,
  "nbformat_minor": 0,
  "metadata": {
    "colab": {
      "provenance": []
    },
    "kernelspec": {
      "name": "python3",
      "display_name": "Python 3"
    },
    "language_info": {
      "name": "python"
    }
  },
  "cells": [
    {
      "cell_type": "code",
      "execution_count": 1,
      "metadata": {
        "colab": {
          "base_uri": "https://localhost:8080/"
        },
        "id": "W2tS8PpJ5pbA",
        "outputId": "44085804-3dd3-430d-9679-2261f372a0cc"
      },
      "outputs": [
        {
          "output_type": "stream",
          "name": "stdout",
          "text": [
            "[0, 1, 2, 3, 4, 5, 6]\n"
          ]
        }
      ],
      "source": [
        "def swap(my_list, index1, index2):\n",
        "    my_list[index1],  my_list[index2] = my_list[index2],  my_list[index1]\n",
        "\n",
        "\n",
        "def pivot(my_list, pivot_index, end_index):\n",
        "    swap_index = pivot_index\n",
        "    for i in range(pivot_index+1, end_index+1):\n",
        "        if my_list[i] < my_list[pivot_index]:\n",
        "            swap_index += 1\n",
        "            swap(my_list, swap_index, i)\n",
        "    swap(my_list, pivot_index, swap_index)\n",
        "    return swap_index\n",
        "\n",
        "\n",
        "def quicksort_helper(my_list, left, right):\n",
        "    if left < right:\n",
        "        pivot_index = pivot(my_list, left, right)\n",
        "        quicksort_helper(my_list, left, pivot_index-1)\n",
        "        quicksort_helper(my_list, pivot_index+1, right)\n",
        "    return my_list\n",
        "\n",
        "def quicksort(my_list):\n",
        "    return quicksort_helper(my_list, 0, len(my_list)-1)\n",
        "\n",
        "my_list = [3,5,0,6,2,1,4]\n",
        "print(quicksort(my_list))"
      ]
    }
  ]
}