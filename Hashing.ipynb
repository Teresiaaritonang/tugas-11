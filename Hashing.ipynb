{
  "nbformat": 4,
  "nbformat_minor": 0,
  "metadata": {
    "colab": {
      "provenance": []
    },
    "kernelspec": {
      "name": "python3",
      "display_name": "Python 3"
    },
    "language_info": {
      "name": "python"
    }
  },
  "cells": [
    {
      "cell_type": "code",
      "execution_count": 1,
      "metadata": {
        "colab": {
          "base_uri": "https://localhost:8080/"
        },
        "id": "peac9xxw43wB",
        "outputId": "3058a722-e706-4a5c-83bc-db07dfe07ed5"
      },
      "outputs": [
        {
          "output_type": "stream",
          "name": "stdout",
          "text": [
            "6\n"
          ]
        }
      ],
      "source": [
        "def mod(number, cellNumber):\n",
        "    return number % cellNumber\n",
        "\n",
        "\n",
        "# print(mod(400, 24))\n",
        "\n",
        "\n",
        "def modASCII(string, cellNumber):\n",
        "    total = 0\n",
        "    for i in string:\n",
        "        total += ord(i)\n",
        "    return total % cellNumber\n",
        "\n",
        "print(modASCII(\"ABC\", 24))"
      ]
    }
  ]
}